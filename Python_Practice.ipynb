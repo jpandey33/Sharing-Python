{
 "cells": [
  {
   "cell_type": "code",
   "execution_count": 9,
   "metadata": {},
   "outputs": [
    {
     "name": "stdout",
     "output_type": "stream",
     "text": [
      "j w a  l\n",
      "j w a  l\n",
      "j w a  l\n",
      "j w a  l\n",
      "j w a  l\n"
     ]
    }
   ],
   "source": [
    "x=\"jwala\"\n",
    "for i in x:\n",
    "    print(x[0],x[1],x[2],'',x[3])\n",
    "    #print(x[1])"
   ]
  },
  {
   "cell_type": "markdown",
   "metadata": {},
   "source": [
    "using of for loop"
   ]
  },
  {
   "cell_type": "code",
   "execution_count": 110,
   "metadata": {},
   "outputs": [
    {
     "name": "stdout",
     "output_type": "stream",
     "text": [
      "[1, 'jwala', -12]\n",
      "1, 'jwala', -12\n",
      "1, 'jwala', -12\n"
     ]
    }
   ],
   "source": [
    "list1=[1,\"jwala\",-12]\n",
    "print(list1)\n",
    "a=str(list1).strip('[]')\n",
    "#print (a)\n",
    "#a1=print (str(list1).strip(']'))\n",
    "for i in range(2):\n",
    "    print(a)"
   ]
  },
  {
   "cell_type": "markdown",
   "metadata": {},
   "source": [
    "converting list into string and printing the string with the help of loop"
   ]
  },
  {
   "cell_type": "code",
   "execution_count": 117,
   "metadata": {},
   "outputs": [
    {
     "name": "stdout",
     "output_type": "stream",
     "text": [
      "['I', 'G', 'E', 'C']\n"
     ]
    }
   ],
   "source": [
    "list1=['A','B','C','D','E','F','G','H','I',\"J\"]\n",
    "x=list1[8:1:-2]\n",
    "print(x)"
   ]
  },
  {
   "cell_type": "code",
   "execution_count": null,
   "metadata": {},
   "outputs": [],
   "source": [
    "Using of List, Slicing(::) and reverse of strings or list"
   ]
  },
  {
   "cell_type": "code",
   "execution_count": 99,
   "metadata": {},
   "outputs": [
    {
     "name": "stdout",
     "output_type": "stream",
     "text": [
      "yednaP jaR alawJ\n"
     ]
    }
   ],
   "source": [
    "x=\"Jwala Raj Pandey\"\n",
    "y=x[::-1]\n",
    "print(y)"
   ]
  },
  {
   "cell_type": "code",
   "execution_count": 112,
   "metadata": {},
   "outputs": [
    {
     "name": "stdout",
     "output_type": "stream",
     "text": [
      "[1, 2, 3, 4, 5, 6]\n"
     ]
    }
   ],
   "source": [
    "x=[1,2,4,4,6,7]\n",
    "x[2]=3\n",
    "x[4]=5\n",
    "x[5]=6\n",
    "#x[6]='J'\n",
    "print(x)"
   ]
  },
  {
   "cell_type": "markdown",
   "metadata": {},
   "source": [
    "changing the value of char inside the list"
   ]
  },
  {
   "cell_type": "code",
   "execution_count": 138,
   "metadata": {},
   "outputs": [
    {
     "data": {
      "text/plain": [
       "array([1, 1, 1, 3, 3, 3, 5, 5, 5, 7, 7, 7, 8, 8, 8, 9, 9, 9])"
      ]
     },
     "execution_count": 138,
     "metadata": {},
     "output_type": "execute_result"
    }
   ],
   "source": [
    "import numpy as np\n",
    "x=[1,3,5,7,8,9]\n",
    "np.array(x)\n",
    "np.repeat(x,3)"
   ]
  },
  {
   "cell_type": "code",
   "execution_count": 145,
   "metadata": {},
   "outputs": [],
   "source": [
    "#Dear Student, \n",
    "\n",
    "# \n",
    "\n",
    "#Welcome to the world of Basketball Data! \n",
    "\n",
    "#I'm sure you will enjoy this section of the Python Programming course. \n",
    "\n",
    "# \n",
    "\n",
    "#Instructions for this dataset: \n",
    "\n",
    "# Simply copy ALL the lines in this script by pressing  \n",
    "\n",
    "# CTRL+A on Windows or CMND+A on Mac and run the Jupyter cell \n",
    "\n",
    "# Once you have executed the commands the following objects \n",
    "\n",
    "# will be created: \n",
    "\n",
    "# Matrices: \n",
    "\n",
    "# - Salary \n",
    "\n",
    "# - Games \n",
    "\n",
    "# - MinutesPlayed \n",
    "\n",
    "# - FieldGoals \n",
    "\n",
    "# - FieldGoalAttempts \n",
    "\n",
    "# - Points \n",
    "\n",
    "# Lists: \n",
    "\n",
    "# - Players \n",
    "\n",
    "# - Seasons \n",
    "\n",
    "# Dictionaries: \n",
    "\n",
    "# - Sdict \n",
    "\n",
    "# - Pdict \n",
    "\n",
    "#We will understand these inside the course. \n",
    "\n",
    "# \n",
    "\n",
    "#Sincerely, \n",
    "\n",
    "#Kirill Eremenko \n",
    "\n",
    "#www.superdatascience.com \n",
    "\n",
    " \n",
    "\n",
    "#Copyright: These datasets were prepared using publicly available data. \n",
    "\n",
    "#           However, theses scripts are subject to Copyright Laws.  \n",
    "\n",
    "#           If you wish to use these Python scripts outside of the Python Programming Course \n",
    "\n",
    "#           by Kirill Eremenko, you may do so by referencing www.superdatascience.com in your work. \n",
    "\n",
    " \n",
    "\n",
    "#Comments: \n",
    "\n",
    "#Seasons are labeled based on the first year in the season \n",
    "\n",
    "#E.g. the 2012-2013 season is preseneted as simply 2012 \n",
    "\n",
    " \n",
    "\n",
    "#Notes and Corrections to the data: \n",
    "\n",
    "#Kevin Durant: 2006 - College Data Used \n",
    "\n",
    "#Kevin Durant: 2005 - Proxied With 2006 Data \n",
    "\n",
    "#Derrick Rose: 2012 - Did Not Play \n",
    "\n",
    "#Derrick Rose: 2007 - College Data Used \n",
    "\n",
    "#Derrick Rose: 2006 - Proxied With 2007 Data \n",
    "\n",
    "#Derrick Rose: 2005 - Proxied With 2007 Data \n",
    "\n",
    " \n",
    "\n",
    "#Import numpy \n",
    "\n",
    "import numpy as np \n",
    "\n",
    " \n",
    "\n",
    "#Seasons \n",
    "\n",
    "Seasons = [\"2005\",\"2006\",\"2007\",\"2008\",\"2009\",\"2010\",\"2011\",\"2012\",\"2013\",\"2014\"] \n",
    "\n",
    "Sdict = {\"2005\":0,\"2006\":1,\"2007\":2,\"2008\":3,\"2009\":4,\"2010\":5,\"2011\":6,\"2012\":7,\"2013\":8,\"2014\":9} \n",
    "\n",
    " \n",
    "\n",
    "#Players \n",
    "\n",
    "Players = [\"KobeBryant\",\"JoeJohnson\",\"LeBronJames\",\"CarmeloAnthony\",\"DwightHoward\",\"ChrisBosh\",\"ChrisPaul\",\"KevinDurant\",\"DerrickRose\",\"DwayneWade\"] \n",
    "\n",
    "Pdict = {\"KobeBryant\":0,\"JoeJohnson\":1,\"LeBronJames\":2,\"CarmeloAnthony\":3,\"DwightHoward\":4,\"ChrisBosh\":5,\"ChrisPaul\":6,\"KevinDurant\":7,\"DerrickRose\":8,\"DwayneWade\":9} \n",
    "\n",
    " \n",
    "\n",
    "#Salaries \n",
    "\n",
    "KobeBryant_Salary = [15946875,17718750,19490625,21262500,23034375,24806250,25244493,27849149,30453805,23500000] \n",
    "\n",
    "JoeJohnson_Salary = [12000000,12744189,13488377,14232567,14976754,16324500,18038573,19752645,21466718,23180790] \n",
    "\n",
    "LeBronJames_Salary = [4621800,5828090,13041250,14410581,15779912,14500000,16022500,17545000,19067500,20644400] \n",
    "\n",
    "CarmeloAnthony_Salary = [3713640,4694041,13041250,14410581,15779912,17149243,18518574,19450000,22407474,22458000] \n",
    "\n",
    "DwightHoward_Salary = [4493160,4806720,6061274,13758000,15202590,16647180,18091770,19536360,20513178,21436271] \n",
    "\n",
    "ChrisBosh_Salary = [3348000,4235220,12455000,14410581,15779912,14500000,16022500,17545000,19067500,20644400] \n",
    "\n",
    "ChrisPaul_Salary = [3144240,3380160,3615960,4574189,13520500,14940153,16359805,17779458,18668431,20068563] \n",
    "\n",
    "KevinDurant_Salary = [0,0,4171200,4484040,4796880,6053663,15506632,16669630,17832627,18995624] \n",
    "\n",
    "DerrickRose_Salary = [0,0,0,4822800,5184480,5546160,6993708,16402500,17632688,18862875] \n",
    "\n",
    "DwayneWade_Salary = [3031920,3841443,13041250,14410581,15779912,14200000,15691000,17182000,18673000,15000000] \n",
    "\n",
    "#Matrix \n",
    "\n",
    "Salary = np.array([KobeBryant_Salary, JoeJohnson_Salary, LeBronJames_Salary, CarmeloAnthony_Salary, DwightHoward_Salary, ChrisBosh_Salary, ChrisPaul_Salary, KevinDurant_Salary, DerrickRose_Salary, DwayneWade_Salary]) \n",
    "\n",
    " \n",
    "\n",
    "#Games  \n",
    "\n",
    "KobeBryant_G = [80,77,82,82,73,82,58,78,6,35] \n",
    "\n",
    "JoeJohnson_G = [82,57,82,79,76,72,60,72,79,80] \n",
    "\n",
    "LeBronJames_G = [79,78,75,81,76,79,62,76,77,69] \n",
    "\n",
    "CarmeloAnthony_G = [80,65,77,66,69,77,55,67,77,40] \n",
    "\n",
    "DwightHoward_G = [82,82,82,79,82,78,54,76,71,41] \n",
    "\n",
    "ChrisBosh_G = [70,69,67,77,70,77,57,74,79,44] \n",
    "\n",
    "ChrisPaul_G = [78,64,80,78,45,80,60,70,62,82] \n",
    "\n",
    "KevinDurant_G = [35,35,80,74,82,78,66,81,81,27] \n",
    "\n",
    "DerrickRose_G = [40,40,40,81,78,81,39,0,10,51] \n",
    "\n",
    "DwayneWade_G = [75,51,51,79,77,76,49,69,54,62] \n",
    "\n",
    "#Matrix \n",
    "\n",
    "Games = np.array([KobeBryant_G, JoeJohnson_G, LeBronJames_G, CarmeloAnthony_G, DwightHoward_G, ChrisBosh_G, ChrisPaul_G, KevinDurant_G, DerrickRose_G, DwayneWade_G]) \n",
    "\n",
    " \n",
    "\n",
    "#Minutes Played \n",
    "\n",
    "KobeBryant_MP = [3277,3140,3192,2960,2835,2779,2232,3013,177,1207] \n",
    "\n",
    "JoeJohnson_MP = [3340,2359,3343,3124,2886,2554,2127,2642,2575,2791] \n",
    "\n",
    "LeBronJames_MP = [3361,3190,3027,3054,2966,3063,2326,2877,2902,2493] \n",
    "\n",
    "CarmeloAnthony_MP = [2941,2486,2806,2277,2634,2751,1876,2482,2982,1428] \n",
    "\n",
    "DwightHoward_MP = [3021,3023,3088,2821,2843,2935,2070,2722,2396,1223] \n",
    "\n",
    "ChrisBosh_MP = [2751,2658,2425,2928,2526,2795,2007,2454,2531,1556] \n",
    "\n",
    "ChrisPaul_MP = [2808,2353,3006,3002,1712,2880,2181,2335,2171,2857] \n",
    "\n",
    "KevinDurant_MP = [1255,1255,2768,2885,3239,3038,2546,3119,3122,913] \n",
    "\n",
    "DerrickRose_MP = [1168,1168,1168,3000,2871,3026,1375,0,311,1530] \n",
    "\n",
    "DwayneWade_MP = [2892,1931,1954,3048,2792,2823,1625,2391,1775,1971] \n",
    "\n",
    "#Matrix \n",
    "\n",
    "MinutesPlayed = np.array([KobeBryant_MP, JoeJohnson_MP, LeBronJames_MP, CarmeloAnthony_MP, DwightHoward_MP, ChrisBosh_MP, ChrisPaul_MP, KevinDurant_MP, DerrickRose_MP, DwayneWade_MP]) \n",
    "\n",
    " \n",
    "\n",
    "#Field Goals \n",
    "\n",
    "KobeBryant_FG = [978,813,775,800,716,740,574,738,31,266] \n",
    "\n",
    "JoeJohnson_FG = [632,536,647,620,635,514,423,445,462,446] \n",
    "\n",
    "LeBronJames_FG = [875,772,794,789,768,758,621,765,767,624] \n",
    "\n",
    "CarmeloAnthony_FG = [756,691,728,535,688,684,441,669,743,358] \n",
    "\n",
    "DwightHoward_FG = [468,526,583,560,510,619,416,470,473,251] \n",
    "\n",
    "ChrisBosh_FG = [549,543,507,615,600,524,393,485,492,343] \n",
    "\n",
    "ChrisPaul_FG = [407,381,630,631,314,430,425,412,406,568] \n",
    "\n",
    "KevinDurant_FG = [306,306,587,661,794,711,643,731,849,238] \n",
    "\n",
    "DerrickRose_FG = [208,208,208,574,672,711,302,0,58,338] \n",
    "\n",
    "DwayneWade_FG = [699,472,439,854,719,692,416,569,415,509] \n",
    "\n",
    "#Matrix \n",
    "\n",
    "FieldGoals  = np.array([KobeBryant_FG, JoeJohnson_FG, LeBronJames_FG, CarmeloAnthony_FG, DwightHoward_FG, ChrisBosh_FG, ChrisPaul_FG, KevinDurant_FG, DerrickRose_FG, DwayneWade_FG]) \n",
    "\n",
    " \n",
    "\n",
    "#Field Goal Attempts \n",
    "\n",
    "KobeBryant_FGA = [2173,1757,1690,1712,1569,1639,1336,1595,73,713] \n",
    "\n",
    "JoeJohnson_FGA = [1395,1139,1497,1420,1386,1161,931,1052,1018,1025] \n",
    "\n",
    "LeBronJames_FGA = [1823,1621,1642,1613,1528,1485,1169,1354,1353,1279] \n",
    "\n",
    "CarmeloAnthony_FGA = [1572,1453,1481,1207,1502,1503,1025,1489,1643,806] \n",
    "\n",
    "DwightHoward_FGA = [881,873,974,979,834,1044,726,813,800,423] \n",
    "\n",
    "ChrisBosh_FGA = [1087,1094,1027,1263,1158,1056,807,907,953,745] \n",
    "\n",
    "ChrisPaul_FGA = [947,871,1291,1255,637,928,890,856,870,1170] \n",
    "\n",
    "KevinDurant_FGA = [647,647,1366,1390,1668,1538,1297,1433,1688,467] \n",
    "\n",
    "DerrickRose_FGA = [436,436,436,1208,1373,1597,695,0,164,835] \n",
    "\n",
    "DwayneWade_FGA = [1413,962,937,1739,1511,1384,837,1093,761,1084] \n",
    "\n",
    "#Matrix \n",
    "\n",
    "FieldGoalAttempts = np.array([KobeBryant_FGA, JoeJohnson_FGA, LeBronJames_FGA, CarmeloAnthony_FGA, DwightHoward_FGA, ChrisBosh_FGA, ChrisPaul_FGA, KevinDurant_FGA, DerrickRose_FGA, DwayneWade_FGA]) \n",
    "\n",
    " \n",
    "\n",
    "#Points \n",
    "\n",
    "KobeBryant_PTS = [2832,2430,2323,2201,1970,2078,1616,2133,83,782] \n",
    "\n",
    "JoeJohnson_PTS = [1653,1426,1779,1688,1619,1312,1129,1170,1245,1154] \n",
    "\n",
    "LeBronJames_PTS = [2478,2132,2250,2304,2258,2111,1683,2036,2089,1743] \n",
    "\n",
    "CarmeloAnthony_PTS = [2122,1881,1978,1504,1943,1970,1245,1920,2112,966] \n",
    "\n",
    "DwightHoward_PTS = [1292,1443,1695,1624,1503,1784,1113,1296,1297,646] \n",
    "\n",
    "ChrisBosh_PTS = [1572,1561,1496,1746,1678,1438,1025,1232,1281,928] \n",
    "\n",
    "ChrisPaul_PTS = [1258,1104,1684,1781,841,1268,1189,1186,1185,1564] \n",
    "\n",
    "KevinDurant_PTS = [903,903,1624,1871,2472,2161,1850,2280,2593,686] \n",
    "\n",
    "DerrickRose_PTS = [597,597,597,1361,1619,2026,852,0,159,904] \n",
    "\n",
    "DwayneWade_PTS = [2040,1397,1254,2386,2045,1941,1082,1463,1028,1331] \n",
    "\n",
    "#Matrix \n",
    "\n",
    "Points = np.array([KobeBryant_PTS, JoeJohnson_PTS, LeBronJames_PTS, CarmeloAnthony_PTS, DwightHoward_PTS, ChrisBosh_PTS, ChrisPaul_PTS, KevinDurant_PTS, DerrickRose_PTS, DwayneWade_PTS])              \n",
    "\n",
    "                   "
   ]
  },
  {
   "cell_type": "code",
   "execution_count": 168,
   "metadata": {},
   "outputs": [
    {
     "name": "stdout",
     "output_type": "stream",
     "text": [
      "[[2832 2430 2323 2201 1970 2078 1616 2133   83  782 1653 1426 1779 1688\n",
      "  1619 1312 1129 1170 1245 1154 2478 2132 2250 2304 2258]\n",
      " [2111 1683 2036 2089 1743 2122 1881 1978 1504 1943 1970 1245 1920 2112\n",
      "   966 1292 1443 1695 1624 1503 1784 1113 1296 1297  646]\n",
      " [1572 1561 1496 1746 1678 1438 1025 1232 1281  928 1258 1104 1684 1781\n",
      "   841 1268 1189 1186 1185 1564  903  903 1624 1871 2472]\n",
      " [2161 1850 2280 2593  686  597  597  597 1361 1619 2026  852    0  159\n",
      "   904 2040 1397 1254 2386 2045 1941 1082 1463 1028 1331]]\n"
     ]
    }
   ],
   "source": [
    "import numpy as np\n",
    "#print(Points)\n",
    "#pts=np.array(Points)\n",
    "y=np.reshape(Points,(4,25),order='C')\n",
    "print(y)"
   ]
  }
 ],
 "metadata": {
  "kernelspec": {
   "display_name": "Python 3",
   "language": "python",
   "name": "python3"
  },
  "language_info": {
   "codemirror_mode": {
    "name": "ipython",
    "version": 3
   },
   "file_extension": ".py",
   "mimetype": "text/x-python",
   "name": "python",
   "nbconvert_exporter": "python",
   "pygments_lexer": "ipython3",
   "version": "3.7.0"
  }
 },
 "nbformat": 4,
 "nbformat_minor": 2
}
